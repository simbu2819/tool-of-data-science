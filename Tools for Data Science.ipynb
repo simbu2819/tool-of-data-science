{
 "cells": [
  {
   "cell_type": "markdown",
   "id": "f4cbcc9b",
   "metadata": {},
   "source": [
    "#  list data science languages."
   ]
  },
  {
   "cell_type": "markdown",
   "id": "5a5ba97d",
   "metadata": {},
   "source": [
    "#### 1.Python\n",
    "#### 2.R\n",
    "#### 3.SQL\n",
    "#### 4.Java\n",
    "#### 5.Julia\n",
    "#### 6.Scala\n",
    "#### 7.C/C++\n",
    "#### 8.JavaScript\n",
    "#### 9.Swift\n",
    "#### 10.Go\n",
    "#### 11.MATLAB\n",
    "#### 12.SAS"
   ]
  },
  {
   "cell_type": "code",
   "execution_count": null,
   "id": "f25347a6",
   "metadata": {},
   "outputs": [],
   "source": []
  },
  {
   "cell_type": "code",
   "execution_count": null,
   "id": "72833975",
   "metadata": {},
   "outputs": [],
   "source": []
  },
  {
   "cell_type": "markdown",
   "id": "d1c2a426",
   "metadata": {},
   "source": [
    "#   list data science libraries\n",
    "\n",
    "#### 1.Keras\n",
    "#### 2.Pandas\n",
    "#### 3.PyTorch\n",
    "#### 4.SciPy\n",
    "#### 5.Scikit-Learn\n",
    "#### 6.TensorFlow\n",
    "#### 7.Matplotlib\n",
    "#### 8.Seaborn\n",
    "#### 9.Theano\n",
    "#### 10.OpenCV\n",
    "#### 11.Beautiful Soup\n",
    "#### 12.ScraPy\n",
    "#### 13.NumPy"
   ]
  },
  {
   "cell_type": "code",
   "execution_count": null,
   "id": "ea6d0c4c",
   "metadata": {},
   "outputs": [],
   "source": []
  },
  {
   "cell_type": "markdown",
   "id": "2b870264",
   "metadata": {},
   "source": [
    "### table of Data Science tools. "
   ]
  },
  {
   "cell_type": "markdown",
   "id": "b8cae427",
   "metadata": {},
   "source": [
    "| S.no| Data Science Task category| Open Source Tools | Cloud Based Tools |Commercial tools for Data Science|\n",
    "| --- | --- | --- |--- |--- |\n",
    "|1| Data Management | MySql, Postgres Sql,Pl/SQL,MongoDB, ..etc | amazon dynamoDB,IBM DB2,..etc|Oracle DB,IBM DB2\n",
    "|2| Data Interation and transformation | Airflow, kubeflow,kafka,sparksql,..etc | IBM data refinery,informatica,..etc|talend ,informatica\n",
    "|3| Data visualization | pixie dust, Hue,superset, programing libraries,..etc | IBM coggnos, datameer ,..etc|Tablue ,MS PowerBI ,...etc\n",
    "|4| Model Building | code proramin libraries,..etc | IBM watson studio, googgle cloud ,..etc|spss,IBM watson studio desktop,...etc\n",
    "|5| Model Deployment | PredictionIO, Kubernate,MLeap, Tensorflow Servin,..etc | IBM watson studio, amazon sagemaker ,..etc|IBM watson studio ,...etc"
   ]
  },
  {
   "cell_type": "markdown",
   "id": "7b42915e",
   "metadata": {},
   "source": [
    "### introducing arithmetic expression examples. "
   ]
  },
  {
   "cell_type": "code",
   "execution_count": 12,
   "id": "62cbbb9c",
   "metadata": {},
   "outputs": [
    {
     "data": {
      "text/plain": [
       "7"
      ]
     },
     "execution_count": 12,
     "metadata": {},
     "output_type": "execute_result"
    }
   ],
   "source": [
    "#arithmatic expression\n",
    "2+5"
   ]
  },
  {
   "cell_type": "markdown",
   "id": "6e09ef1b",
   "metadata": {},
   "source": [
    "###  multiply and add numbers."
   ]
  },
  {
   "cell_type": "code",
   "execution_count": 13,
   "id": "20231cde",
   "metadata": {},
   "outputs": [
    {
     "data": {
      "text/plain": [
       "6"
      ]
     },
     "execution_count": 13,
     "metadata": {},
     "output_type": "execute_result"
    }
   ],
   "source": [
    "#  multiply and add numbers.\n",
    "\n",
    "#multiply\n",
    "2*3"
   ]
  },
  {
   "cell_type": "code",
   "execution_count": 14,
   "id": "f0a8e336",
   "metadata": {},
   "outputs": [
    {
     "data": {
      "text/plain": [
       "7"
      ]
     },
     "execution_count": 14,
     "metadata": {},
     "output_type": "execute_result"
    }
   ],
   "source": [
    "# Addingg two numbers\n",
    "2+5"
   ]
  },
  {
   "cell_type": "markdown",
   "id": "fe4566d8",
   "metadata": {},
   "source": [
    "### convert minutes to hours. "
   ]
  },
  {
   "cell_type": "code",
   "execution_count": 16,
   "id": "cd520cc5",
   "metadata": {},
   "outputs": [
    {
     "data": {
      "text/plain": [
       "2"
      ]
     },
     "execution_count": 16,
     "metadata": {},
     "output_type": "execute_result"
    }
   ],
   "source": [
    "# convert minutes to hours. \n",
    "#120 min convert hours\n",
    "# 1 hour 60 min\n",
    "int(120/60)"
   ]
  },
  {
   "cell_type": "markdown",
   "id": "d9fe3a55",
   "metadata": {},
   "source": [
    "### Data Science list Objectives."
   ]
  },
  {
   "cell_type": "markdown",
   "id": "e77ba654",
   "metadata": {},
   "source": [
    "#### 1.Data Management\n",
    "#### 2. Data Intigration and transformation\n",
    "#### 3. data visualization\n",
    "#### 4. model bulding\n",
    "#### 5. model deployment\n",
    "#### 6. model monitoring and assessment"
   ]
  },
  {
   "cell_type": "code",
   "execution_count": null,
   "id": "acce728f",
   "metadata": {},
   "outputs": [],
   "source": []
  }
 ],
 "metadata": {
  "kernelspec": {
   "display_name": "Python 3 (ipykernel)",
   "language": "python",
   "name": "python3"
  },
  "language_info": {
   "codemirror_mode": {
    "name": "ipython",
    "version": 3
   },
   "file_extension": ".py",
   "mimetype": "text/x-python",
   "name": "python",
   "nbconvert_exporter": "python",
   "pygments_lexer": "ipython3",
   "version": "3.9.7"
  }
 },
 "nbformat": 4,
 "nbformat_minor": 5
}
